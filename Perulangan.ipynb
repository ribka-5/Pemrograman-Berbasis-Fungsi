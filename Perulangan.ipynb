{
  "nbformat": 4,
  "nbformat_minor": 0,
  "metadata": {
    "colab": {
      "provenance": [],
      "include_colab_link": true
    },
    "kernelspec": {
      "name": "python3",
      "display_name": "Python 3"
    },
    "language_info": {
      "name": "python"
    }
  },
  "cells": [
    {
      "cell_type": "markdown",
      "metadata": {
        "id": "view-in-github",
        "colab_type": "text"
      },
      "source": [
        "<a href=\"https://colab.research.google.com/github/ribka-5/Pemrograman-Berbasis-Fungsi/blob/main/Perulangan.ipynb\" target=\"_parent\"><img src=\"https://colab.research.google.com/assets/colab-badge.svg\" alt=\"Open In Colab\"/></a>"
      ]
    },
    {
      "cell_type": "markdown",
      "metadata": {
        "id": "c7i6cmxpPdPw"
      },
      "source": [
        "**Praktikum 3 - Pengulangan (Loop)**\n",
        "\n",
        "**Tujuan & Manfaat**\n",
        "\n",
        "mahasiswa diharapkan:\n",
        "\n",
        "1. Mahasiswa mengerti syntax operator pada python\n",
        "2. Mahasiswa dapat menjalankan program python menggunakan IDE, maupun di command prompt atau terminal\n",
        "3. Mahasiswa mengerti konsep setiap pengulangan,while loop, for loop, nested loop\n",
        "4. Mahasiswa dapat menerapkan dalam program\n",
        "\n",
        "Secara umum, pernyataan pada bahasa pemrograman akan dieksekusi secara berurutan. Pernyataan pertama dalam sebuah fungsi dijalankan pertama, diikuti oleh yang kedua, dan seterusnya. Tetapi akan ada situasi dimana Anda harus menulis banyak kode, dimana kode tersebut sangat banyak. Jika dilakukan secara manual maka Anda hanya akan membuang-buang tenaga dengan menulis beratus-ratus bahkan beribu-ribu kode. Untuk itu Anda perlu menggunakan pengulangan di dalam bahasa pemrograman Python.\n",
        "\n",
        "Di dalam bahasa pemrograman Python pengulangan dibagi menjadi 3 bagian, yaitu :\n",
        "\n",
        "- While Loop\n",
        "- For Loop\n",
        "- Nested Loop"
      ]
    },
    {
      "cell_type": "markdown",
      "metadata": {
        "id": "jKK8Cfea7FmD"
      },
      "source": [
        "# **PERULANGAN**"
      ]
    },
    {
      "cell_type": "markdown",
      "metadata": {
        "id": "gzOPNmdd7_Zw"
      },
      "source": [
        "Perulangan dalam dunia pemrograman adalah baris kode atau instruksi yang dieksekusi oleh komputer secara berulang-ulang sampai suatu kondisi tertentu terpenuhi.\n",
        "\n",
        "Konsep perulangan ini didukung di semua bahasa pemrograman modern, termasuk di antaranya adalah python.\n",
        "\n",
        "Dengan perulangan, kita bisa mengeksekusi suatu kode program berkali-kali dengan jumlah tertentu, atau selama sebuah kondisi tertentu terpenuhi.\n",
        "\n",
        "Sebenarnya hampir sama seperti percabangan python yang kita bahas pada pertemuan sebelumnya.\n",
        "\n",
        "Perbedaannya adalah:\n",
        "1.   Kalau percabangan, blok kode yang memenuhi kondisi tertentu hanya akan dieksekusi satu kali saja.\n",
        "2.   Sedangkan perulangan, ia akan dilakukan seterusnya berulang-ulang dengan jumlah tertentu atau selama kondisi tertentu terpenuhi\n",
        "\n"
      ]
    },
    {
      "cell_type": "markdown",
      "metadata": {
        "id": "j_xBjiue8-OR"
      },
      "source": [
        " **Perulangan pada Python**\n",
        "\n",
        "Pada python, kita bisa melakukan perulangan dengan beberapa cara di antaranya:\n",
        "\n",
        "1.   Perulangan for\n",
        "2.   Perulangan while\n",
        "3.   Fungsi rekursif\n",
        "\n",
        "Ketiga perulangan ini akan kita bahas di minggu ini.\n",
        "\n"
      ]
    },
    {
      "cell_type": "markdown",
      "metadata": {
        "id": "CwlVn80t9ei5"
      },
      "source": [
        "# **Perulangan FOR**\n",
        "\n",
        "Perulangan `for` pada python adalah perintah yang digunakan untuk melakukan **iterasi dari sebuah nilai sequence** atau data koleksi pada python seperti List, Tuple, String dan lain-lain.\n",
        "\n",
        "For pada python memiliki **perilaku yang berbeda** dengan for pada kebanyakan bahasa pemrograman yang lain, karena pada python ia sangat berkaitan dengan data sequence atau data kolektif. Mungkin kalau dibandingkan dengan bahasa lain, for pada python lebih dikenal sebagai foreach."
      ]
    },
    {
      "cell_type": "markdown",
      "metadata": {
        "id": "FKh5iTDI92yC"
      },
      "source": [
        "## **Syntax For**\n",
        "\n",
        "Berikut ini adalah struktur sintaks metode for:"
      ]
    },
    {
      "cell_type": "code",
      "metadata": {
        "id": "FDlaAlH3ixC1"
      },
      "source": [
        "for nilai in sequence:\n",
        "  # blok kode for"
      ],
      "execution_count": null,
      "outputs": []
    },
    {
      "cell_type": "markdown",
      "metadata": {
        "id": "iJvb5VpP-CZp"
      },
      "source": [
        "ada 3 bagian penting\n",
        "\n",
        "1. `sequence:` adalah sebuah nilai yang bersifat iterable alias bisa diulang-ulang. Di antara tipe data yang bersifat sequence atau iterable adalah: **list, tuple, string dll.**\n",
        "2. `nilai:` adalah setiap item yang diekstrak dari `sequence:`\n",
        "3. **Blok kode**: yaitu statemen-statemen atau perintah-perintah tertentu yang akan dieksekusi secara berulang.\n"
      ]
    },
    {
      "cell_type": "markdown",
      "metadata": {
        "id": "98x-14o6--MS"
      },
      "source": [
        "## **For dengan list**\n",
        "\n",
        "Langsung saja ke contoh dan praktik.\n",
        "\n",
        "Buka Python interpreter kalian, lalu buat sebuah variabel dengan tipe data list.\n",
        "\n",
        "Setelah itu kita akan menampilkan tiap item dari list yang telah kita buat.\n",
        "\n",
        "Perhatikan contoh berikut:"
      ]
    },
    {
      "cell_type": "code",
      "metadata": {
        "colab": {
          "base_uri": "https://localhost:8080/"
        },
        "id": "wJRWJjLw_M4p",
        "outputId": "0e9a358c-cb67-402f-8d73-612347d88bc9"
      },
      "source": [
        "listKota = ['Jakarta', 'Surabaya', 'Depok', 'Bekasi', 'Solo', 'Jogjakarta', 'Semarang', 'Makassar']\n",
        "\n",
        "for kota in listKota:\n",
        "  print(kota)"
      ],
      "execution_count": null,
      "outputs": [
        {
          "output_type": "stream",
          "name": "stdout",
          "text": [
            "Jakarta\n",
            "Surabaya\n",
            "Depok\n",
            "Bekasi\n",
            "Solo\n",
            "Jogjakarta\n",
            "Semarang\n",
            "Makassar\n"
          ]
        }
      ]
    },
    {
      "cell_type": "markdown",
      "metadata": {
        "id": "ezHDsrbQ_qSh"
      },
      "source": [
        "## **Mengetahui urutan iterasi FOR dengan LIST**\n",
        "\n",
        "Untuk mengetahui urutan iterasi for dengan list, kita bisa menggunakan fungsi `enumerate`.\n",
        "\n",
        "Fungsi tersebut akan mengekstrak 2 buah nilai:\n",
        "\n",
        "1. yang pertama adalah `index:` yaitu urutan iterasi yang ke berapa\n",
        "2. dan `item` yang mana itu adalah nilai dari list itu sendiri.\n",
        "\n",
        "Perhatikan contoh berikut:"
      ]
    },
    {
      "cell_type": "code",
      "metadata": {
        "colab": {
          "base_uri": "https://localhost:8080/"
        },
        "id": "uVRybkF6AAbb",
        "outputId": "f34d0cbe-901c-45a3-e43d-cc98c22c6da4"
      },
      "source": [
        "listKota = ['Jakarta', 'Surabaya', 'Depok', 'Bekasi', 'Solo', 'Jogjakarta', 'Semarang', 'Makassar']\n",
        "\n",
        "for i, kota in enumerate(listKota):\n",
        "  print(i, kota)"
      ],
      "execution_count": null,
      "outputs": [
        {
          "output_type": "stream",
          "name": "stdout",
          "text": [
            "0 Jakarta\n",
            "1 Surabaya\n",
            "2 Depok\n",
            "3 Bekasi\n",
            "4 Solo\n",
            "5 Jogjakarta\n",
            "6 Semarang\n",
            "7 Makassar\n"
          ]
        }
      ]
    },
    {
      "cell_type": "markdown",
      "metadata": {
        "id": "mc-Dbiz6AIhy"
      },
      "source": [
        "Kode program di atas sama saja seperti sebelumnya, kita hanya menambahkan fungsi `enumerate()` dan mem-passing variabel `listKota` sebagai parameter. Kita juga mengekstrak dua buah nilai yang kita kasih nama `i` dan `kota`.\n",
        "\n",
        "Jila dijalankan, berikut adalah output yang kita dapat:\n",
        "\n",
        "0 Jakarta\n",
        "\n",
        "1 Surabaya\n",
        "\n",
        "2 Depok\n",
        "\n",
        "3 Bekasi\n",
        "\n",
        "4 Solo\n",
        "\n",
        "5 Jogjakarta\n",
        "\n",
        "6 Semarang\n",
        "\n",
        "7 Makassar\n",
        "\n",
        "Perhatikan, urutannya dimulai dari **0**, bukan dari angka **1**."
      ]
    },
    {
      "cell_type": "markdown",
      "metadata": {
        "id": "Bsd3dXdOAfui"
      },
      "source": [
        "## **For dengan fungsi range()**\n",
        "\n",
        "Selain dengan list, kita juga bisa menggunakan for dengan fungsi `range()`.\n",
        "\n",
        "Perhatikan contoh berikut:"
      ]
    },
    {
      "cell_type": "code",
      "metadata": {
        "colab": {
          "base_uri": "https://localhost:8080/"
        },
        "id": "qxyq_xXRAoYq",
        "outputId": "892ff444-979b-47fa-b141-b1452b1555e7"
      },
      "source": [
        "## 0 sampai 4\n",
        "for i in range(5):\n",
        "  print(\"Perulangan ke -\", i)"
      ],
      "execution_count": null,
      "outputs": [
        {
          "output_type": "stream",
          "name": "stdout",
          "text": [
            "Perulangan ke - 0\n",
            "Perulangan ke - 1\n",
            "Perulangan ke - 2\n",
            "Perulangan ke - 3\n",
            "Perulangan ke - 4\n"
          ]
        }
      ]
    },
    {
      "cell_type": "markdown",
      "metadata": {
        "id": "nBiz7jBVAxNa"
      },
      "source": [
        "Dengan fungsi range, kita bisa melakukan perulangan dari 0, sampai **kurang dari** nilai range yang kita definisikan (yaitu 5 dalam contoh di atas). Sehingga hasil perulangan yang didapatkan adalah 0 sampai 4."
      ]
    },
    {
      "cell_type": "markdown",
      "metadata": {
        "id": "390mc9nwA31T"
      },
      "source": [
        "**Kita bisa memulai range dari selain 0**\n",
        "\n",
        "Perhatikan contoh berikut:"
      ]
    },
    {
      "cell_type": "code",
      "metadata": {
        "colab": {
          "base_uri": "https://localhost:8080/"
        },
        "id": "Mm7BZSU7BAUa",
        "outputId": "9ff040ca-5457-420e-9ce1-61221b508c31"
      },
      "source": [
        "## 10 sampai 15\n",
        "for i in range(10, 16):\n",
        "  print('i =', i)"
      ],
      "execution_count": null,
      "outputs": [
        {
          "output_type": "stream",
          "name": "stdout",
          "text": [
            "i = 10\n",
            "i = 11\n",
            "i = 12\n",
            "i = 13\n",
            "i = 14\n",
            "i = 15\n"
          ]
        }
      ]
    },
    {
      "cell_type": "markdown",
      "metadata": {
        "id": "K4mlMk7hBESS"
      },
      "source": [
        "**Kita juga bisa mendefinisikan kelipatannya:**\n",
        "\n",
        "Perhatikan contoh berikut:"
      ]
    },
    {
      "cell_type": "code",
      "metadata": {
        "colab": {
          "base_uri": "https://localhost:8080/"
        },
        "id": "Z9m1LWbpBLSC",
        "outputId": "fe8497df-0c2e-49b6-e8fb-06740b48d585"
      },
      "source": [
        "## Bilangan genap kelipatan 2\n",
        "for i in range(2, 12, 2):\n",
        "  print('i =', i)"
      ],
      "execution_count": null,
      "outputs": [
        {
          "output_type": "stream",
          "name": "stdout",
          "text": [
            "i = 2\n",
            "i = 4\n",
            "i = 6\n",
            "i = 8\n",
            "i = 10\n"
          ]
        }
      ]
    },
    {
      "cell_type": "markdown",
      "metadata": {
        "id": "ebRX-ooiBQUa"
      },
      "source": [
        "Pada contoh di atas, sistem akan melakukan perulangan dimulai dari angka 2, hingga kurang dari 12 dengan interval/kelipatan sebanyak 2."
      ]
    },
    {
      "cell_type": "markdown",
      "metadata": {
        "id": "ODdetCdTBXpz"
      },
      "source": [
        "Untuk bilangan ganjil, kita mulai saja dari angka 1:"
      ]
    },
    {
      "cell_type": "code",
      "metadata": {
        "colab": {
          "base_uri": "https://localhost:8080/"
        },
        "id": "FeZeZq93BcFD",
        "outputId": "f4a779e8-c067-4b08-9a88-0c09f303d2d8"
      },
      "source": [
        "## Bilangan ganjil kelipatan 2\n",
        "for bilangan_ganjil in range(1, 12, 2):\n",
        "  print(bilangan_ganjil)"
      ],
      "execution_count": null,
      "outputs": [
        {
          "output_type": "stream",
          "name": "stdout",
          "text": [
            "1\n",
            "3\n",
            "5\n",
            "7\n",
            "9\n",
            "11\n"
          ]
        }
      ]
    },
    {
      "cell_type": "markdown",
      "metadata": {
        "id": "YHCU5rr8WpI7"
      },
      "source": [
        "nama variabel-nya tidak harus `i`. Bisa terserah kita"
      ]
    },
    {
      "cell_type": "markdown",
      "metadata": {
        "id": "kNoMxA4vWsdy"
      },
      "source": [
        "## **For dengan tuple**\n",
        "\n",
        "Tuple adalah di antara tipe data yang bersifat iterable, sehingga kita juga bisa memperlakukannya sebagai objek perulangan menggunankan `for`.\n",
        "\n",
        "Perhatikan contoh di bawah:"
      ]
    },
    {
      "cell_type": "code",
      "metadata": {
        "colab": {
          "base_uri": "https://localhost:8080/"
        },
        "id": "sobigiw0W4iT",
        "outputId": "d26c7376-b8f1-4a4b-cefc-2bb5b23cde97"
      },
      "source": [
        "tupleBuah = ('Mangga', 'Jeruk', 'Apel', 'Pepaya')\n",
        "\n",
        "for buah in tupleBuah:\n",
        "  print(buah)"
      ],
      "execution_count": null,
      "outputs": [
        {
          "output_type": "stream",
          "name": "stdout",
          "text": [
            "Mangga\n",
            "Jeruk\n",
            "Apel\n",
            "Pepaya\n"
          ]
        }
      ]
    },
    {
      "cell_type": "markdown",
      "metadata": {
        "id": "txhElagLYvSb"
      },
      "source": [
        "## **For dengan string**"
      ]
    },
    {
      "cell_type": "markdown",
      "metadata": {
        "id": "TN0_GyuiY23z"
      },
      "source": [
        "String pun demikian, bersifat **iterable**, sehingga bisa kita jadikan objek perulangan.\n",
        "\n",
        "Perhatikan contoh berikut:"
      ]
    },
    {
      "cell_type": "code",
      "metadata": {
        "colab": {
          "base_uri": "https://localhost:8080/"
        },
        "id": "a4kImDxfY0BD",
        "outputId": "ad3688c2-ca62-423d-ca2c-89ae5ee3a6f3"
      },
      "source": [
        "for karakter in \"Indonesia🇮🇩\":\n",
        "  print(karakter)"
      ],
      "execution_count": null,
      "outputs": [
        {
          "output_type": "stream",
          "name": "stdout",
          "text": [
            "I\n",
            "n\n",
            "d\n",
            "o\n",
            "n\n",
            "e\n",
            "s\n",
            "i\n",
            "a\n",
            "🇮\n",
            "🇩\n"
          ]
        }
      ]
    },
    {
      "cell_type": "markdown",
      "metadata": {
        "id": "-ecpLibDZVm0"
      },
      "source": [
        "## **Break dan continue**\n",
        "\n",
        "Pada python, kita bisa **menginterupsi** dan juga **men-skip** suatu iterasi pada perulangan.\n",
        "\n",
        "Terdapat 2 perintah yang bisa kita gunakan, yaitu:\n",
        "1. `break` untuk interupsi (memberhentikan paksa) sebuah perulangan\n",
        "2. `continue` untuk menskip ke iterasi selanjutnya.\n",
        "\n",
        "Perhatikan contoh berikut:"
      ]
    },
    {
      "cell_type": "code",
      "metadata": {
        "colab": {
          "base_uri": "https://localhost:8080/"
        },
        "id": "DASFVf-nZr-c",
        "outputId": "ae15f0ff-8fab-4451-8d52-c15564a44efc"
      },
      "source": [
        "for i in range(10, 20):\n",
        "  # skip jika i == 15\n",
        "  if (i == 15):\n",
        "    continue\n",
        "\n",
        "  print(i)"
      ],
      "execution_count": null,
      "outputs": [
        {
          "output_type": "stream",
          "name": "stdout",
          "text": [
            "10\n",
            "11\n",
            "12\n",
            "13\n",
            "14\n",
            "16\n",
            "17\n",
            "18\n",
            "19\n"
          ]
        }
      ]
    },
    {
      "cell_type": "markdown",
      "metadata": {
        "id": "UAIfRgyBZ4Cl"
      },
      "source": [
        "Perhatikan output di atas, pada saat `i == 15`, perintah `print(i)` tidak dieksekusi dan justru di-skip ke iterasi berikutnya.\n",
        "\n",
        "Atau…\n",
        "\n",
        "Kita justru bisa memberhentikan paksa suatu perulangan sekalipun belum sampai ke iterasi yang terakhir."
      ]
    },
    {
      "cell_type": "code",
      "metadata": {
        "colab": {
          "base_uri": "https://localhost:8080/"
        },
        "id": "XNp_H4xxZ-sU",
        "outputId": "7f784568-358c-4af5-995c-580e09560df8"
      },
      "source": [
        "for i in range(10, 20):\n",
        "  # hentikan jika i == 15\n",
        "  if (i == 15):\n",
        "    break\n",
        "\n",
        "  print(i)"
      ],
      "execution_count": null,
      "outputs": [
        {
          "output_type": "stream",
          "name": "stdout",
          "text": [
            "10\n",
            "11\n",
            "12\n",
            "13\n",
            "14\n"
          ]
        }
      ]
    },
    {
      "cell_type": "markdown",
      "metadata": {
        "id": "7_H6aLTGaEj0"
      },
      "source": [
        "Sistem akan memberhentikan perulangan ketika `i == 15` dan belum sempat melakukan perintah `print()`"
      ]
    },
    {
      "cell_type": "markdown",
      "metadata": {
        "id": "SF6DG41OaNz0"
      },
      "source": [
        "## **For....Else + Break**\n",
        "\n",
        "Tapi tugasnya berbeda.\n",
        "\n",
        "Perulangan `for` jika ditambahkan blok `else`, maka perintah yang ada pada blok `else` hanya akan dieksekusi ketika perulangan selesai **secara natural** –tanpa interupsi.\n",
        "\n",
        "Perhatikan contoh berikut:"
      ]
    },
    {
      "cell_type": "code",
      "metadata": {
        "colab": {
          "base_uri": "https://localhost:8080/"
        },
        "id": "HG2egfUSa1Ac",
        "outputId": "0152afb5-eab9-4b02-b0e2-e9b448dda0b8"
      },
      "source": [
        "listKota = ['Jakarta', 'Surabaya', 'Depok', 'Bekasi', 'Solo', 'Jogjakarta', 'Semarang', 'Makassar']\n",
        "\n",
        "for kota in listKota:\n",
        "  print(kota)\n",
        "else:\n",
        "  print('Tidak ada lagi item yang tersisa')"
      ],
      "execution_count": null,
      "outputs": [
        {
          "output_type": "stream",
          "name": "stdout",
          "text": [
            "Jakarta\n",
            "Surabaya\n",
            "Depok\n",
            "Bekasi\n",
            "Solo\n",
            "Jogjakarta\n",
            "Semarang\n",
            "Makassar\n",
            "Tidak ada lagi item yang tersisa\n"
          ]
        }
      ]
    },
    {
      "cell_type": "markdown",
      "metadata": {
        "id": "XGzKnhpVbJBU"
      },
      "source": [
        "**FOR ELSE BREAK**\n",
        "\n",
        "Jika kita gabungkan `for ... else` dengan `break`, maka blok `else` hanya akan dieksekusi jika perintah `break` tidak dieksekusi.\n",
        "\n",
        "Kita bisa memanfaatkan `for ... else + break` untuk pencarian sebuah item pada list.\n",
        "\n",
        "Perhatikan contoh berikut:"
      ]
    },
    {
      "cell_type": "code",
      "metadata": {
        "colab": {
          "base_uri": "https://localhost:8080/"
        },
        "id": "7uNqq7G5bbYN",
        "outputId": "db913c77-c67d-4228-c407-7884ccc4f9d0"
      },
      "source": [
        "listKota = [ 'Jakarta', 'Surabaya', 'Depok', 'Bekasi', 'Solo', 'Jogjakarta', 'Semarang', 'Makassar']\n",
        "\n",
        "kotaYangDicari = input('Ketik nama kota yang kamu cari: ')\n",
        "\n",
        "for i, kota in enumerate(listKota):\n",
        "  # kita ubah katanya ke lowercase agar\n",
        "  # menjadi case insensitive\n",
        "  if kota.lower() == kotaYangDicari.lower():\n",
        "    print('Kota yang anda cari berada pada indeks', i)\n",
        "    break\n",
        "else:\n",
        "  print('Maaf, kota yang anda cari tidak ada')"
      ],
      "execution_count": null,
      "outputs": [
        {
          "output_type": "stream",
          "name": "stdout",
          "text": [
            "Ketik nama kota yang kamu cari: jakarta\n",
            "Kota yang anda cari berada pada indeks 0\n"
          ]
        }
      ]
    },
    {
      "cell_type": "markdown",
      "metadata": {
        "id": "IHe-bHD4bpR1"
      },
      "source": [
        "Program di atas akan meminta user untuk menginputkan nama kota yang ingin dicari. Jika kotanya maka akan kita kasih info indeks-nya berapa (dalam `listKota`), dan jika tidak ada maka perintah `print()` yang ada di blok `else` akan dieksekusi.\n",
        "\n",
        "1. jika kita inputkan: **Jakarta**, makan outputnya adalah\n",
        "\n",
        "`Ketik nama kota yang kamu cari: jakarta\n",
        "Kota yang anda cari berada pada indeks 0`\n",
        "\n",
        "2. jika kita inputkan: **lampung**, makan outputnya adalah\n",
        "\n",
        "`Ketik nama kota yang kamu cari: lampung\n",
        "Maaf, kota yang anda cari tidak ada`"
      ]
    },
    {
      "cell_type": "markdown",
      "metadata": {
        "id": "eXHIuQ9acXsV"
      },
      "source": [
        "Nah, harusnya sekarang sudah lebih jelas bagaimana cara `for ... else` bekerja, dan kapan blok kode `else` akan dieksekusi. Dia hanya akan dieksekusi ketika perulangan mencapai titik akhirnya (alias sudah tidak ada iterasi lagi yang tersisa).\n",
        "\n",
        "Ada pun jika sebuah perulangan `for` dihentikan paksa dengan perintah `break`, maka perintah yang ada pada blok `else` tidak akan dieksekusi."
      ]
    },
    {
      "cell_type": "markdown",
      "metadata": {
        "id": "2ENcbEywcrfN"
      },
      "source": [
        "# **Perulangan WHILE**\n",
        "\n",
        "Perulangan while pada python adalah proses pengulangan suatu blok kode program **selama sebuah kondisi terpenuhi**\n",
        "\n",
        "Singkatnya, **perulangan while adalah perulangan yang bersifat indefinite alias tidak pasti**, atau bahkan tidak terbatas.\n",
        "\n",
        "Sebuah blok kode akan dilakukan terus-menerus selama suatu kondisi terpenuhi. Jika suatu kondisi ternyata **tidak terpenuhi pada iterasi ke 10**, maka **perulangan akan berhenti**. Jika kondisi yang sama pada saat yang berbeda ternyata berhenti pada iterasi ke 100, maka perulangan akan berhenti pada jumlah tersebut."
      ]
    },
    {
      "cell_type": "markdown",
      "metadata": {
        "id": "dq2f8_75czFc"
      },
      "source": [
        "## **Sintax While**\n",
        "\n",
        "Kita bisa menulis sintaks while dengan cara berikut:"
      ]
    },
    {
      "cell_type": "code",
      "metadata": {
        "id": "USe9UQMugYU-"
      },
      "source": [
        "while <kondisi>:\n",
        "  # blok kode yang akan diulang-ulang"
      ],
      "execution_count": null,
      "outputs": []
    },
    {
      "cell_type": "markdown",
      "metadata": {
        "id": "dpIWN00rgbz1"
      },
      "source": [
        "Terdapat 3 komponen utama:\n",
        "\n",
        "1. Yang pertama adalah keyword while, ini harus kita isi.\n",
        "2. Yang kedua adalah `<kondisi>`: ini bisa berupa variabel boolean atau ekspresi logika.\n",
        "3. Dan yang terakhir adalah blok (atau kumpulan baris) kode yang akan diulang-ulang **kondisi terpenuhi**."
      ]
    },
    {
      "cell_type": "markdown",
      "metadata": {
        "id": "sVHVghALg0Om"
      },
      "source": [
        "## **Perulangan Tanpa Batas**\n",
        "\n",
        "Perulangan `while` **sangat berkaitan** dengan variabel `boolean`, atau *logical statement*. Karena penentuan kapan suatu blok kode akan diulang-ulang ditinjau dari `True` or `False` dari suatu pernyataan logika.\n",
        "\n",
        "Sehingga jika suatu kondisi itu selalu benar, maka perulangannya pun akan selalu di eksekusi.\n",
        "\n",
        "Perhatikan contoh berikut:"
      ]
    },
    {
      "cell_type": "code",
      "metadata": {
        "id": "HtA3Y05vhKeH"
      },
      "source": [
        "while (1 + 2 == 3):\n",
        "  print('Halo dunia!')"
      ],
      "execution_count": null,
      "outputs": []
    },
    {
      "cell_type": "markdown",
      "metadata": {
        "id": "HFWDpAezhMNR"
      },
      "source": [
        "Jika dieksekusi, sistem akan mencetak tulisan “Halo dunia!” berkali-kali tanpa henti."
      ]
    },
    {
      "cell_type": "markdown",
      "metadata": {
        "id": "DP-orEBghQ_v"
      },
      "source": [
        "Kita bisa **memaksanya berhenti dengan menekan tombol** `Ctr + C` jika menggunakan CLI, atau dengan cara menekan tombol stop jika menggunakan IDE atau sejenisnya."
      ]
    },
    {
      "cell_type": "markdown",
      "metadata": {
        "id": "WbAzgEpRhb3-"
      },
      "source": [
        "**Kenapa perulangan di atas dieksekusi terus menerus?**\n",
        "\n",
        "Karena kita memerintahkan komputer untuk menulis “Hello World” **selama satu ditambah dua sama dengan tiga**.\n",
        "\n",
        "`Pertanyaannya:` apakah satu ditambah dua sama dengan tiga terus-menerus atau tidak?\n",
        "\n",
        "`Jawabannya iya!` Oleh karena itu sistem melakukan iterasi tak terbatas."
      ]
    },
    {
      "cell_type": "markdown",
      "metadata": {
        "id": "SWmbBFkpiAeH"
      },
      "source": [
        "## **Contoh perulangan while seperti for + range**\n",
        "\n",
        "Lalu bagaimana caranya agar kita **bisa memberhentikan** perulangan while?\n",
        "\n",
        "Caranya gampang, kita buat kondisinya bersifat dinamis (alias bisa berubah-ubah).\n",
        "\n",
        "Di dalam contoh berikut, kita akan menampilkan angka 1 sampai dengan angka 5 menggunakan perulangan while."
      ]
    },
    {
      "cell_type": "code",
      "metadata": {
        "colab": {
          "base_uri": "https://localhost:8080/"
        },
        "id": "qvySLREziRlP",
        "outputId": "23c8520d-f258-409e-a247-ec65a5b809a9"
      },
      "source": [
        "i = 1\n",
        "\n",
        "while i <= 5:\n",
        "  print(i)\n",
        "  i += 1"
      ],
      "execution_count": null,
      "outputs": [
        {
          "output_type": "stream",
          "name": "stdout",
          "text": [
            "1\n",
            "2\n",
            "3\n",
            "4\n",
            "5\n"
          ]
        }
      ]
    },
    {
      "cell_type": "markdown",
      "metadata": {
        "id": "lahjflFPiWG3"
      },
      "source": [
        "**Penjelasan**\n",
        "Pada kode program di atas, kita menginstruksikan sistem untuk:\n",
        "\n",
        "1. Melakukan perulangan selama variabel `i` kurang dari atau sama dengan 5.\n",
        "2. Setiap kali iterasi, sistem akan menampilkan nilai dari `i`.\n",
        "3. Dan yang terakhir, pada setiap iterasi, sistem akan menambahkan nilai `i` dengan angka 1.\n",
        "\n",
        "Kalian bisa memodifikasi kode program di atas misalkan untuk:\n",
        "- menampilkan bilangan prima dari 1 sampai 100\n",
        "- menampilkan angka kelipatan 4 dari 1 sampai 100\n",
        "- menampilkan angka ganjil dari 1 sampai 27\n",
        "- dan sebagainya\n"
      ]
    },
    {
      "cell_type": "markdown",
      "metadata": {
        "id": "rezcxxXXipN3"
      },
      "source": [
        "## **Contoh perulangan while untuk list**\n",
        "\n",
        "Untuk menampilkan semua item pada list, cara yang paling clean adalah dengan menggunakan metode for seperti yang telah kita bahas sebelumnya.\n",
        "\n",
        "Meskipun begitu, kita tetap bisa menggunakan perulangan while untuk bermain-main dengan list.\n",
        "\n",
        "Perhatikan contoh berikut:"
      ]
    },
    {
      "cell_type": "code",
      "metadata": {
        "colab": {
          "base_uri": "https://localhost:8080/"
        },
        "id": "QRBCBNScixHZ",
        "outputId": "fc8d6917-44bd-43f1-bef6-3e423d92e48a"
      },
      "source": [
        "listKota = ['Jakarta', 'Surabaya', 'Depok', 'Bekasi', 'Solo', 'Jogjakarta', 'Semarang', 'Makassar']\n",
        "\n",
        "# bermain index\n",
        "i = 0\n",
        "while i < len(listKota):\n",
        "  print(listKota[i])\n",
        "  i += 1"
      ],
      "execution_count": null,
      "outputs": [
        {
          "output_type": "stream",
          "name": "stdout",
          "text": [
            "Jakarta\n",
            "Surabaya\n",
            "Depok\n",
            "Bekasi\n",
            "Solo\n",
            "Jogjakarta\n",
            "Semarang\n",
            "Makassar\n"
          ]
        }
      ]
    },
    {
      "cell_type": "markdown",
      "metadata": {
        "id": "Cv2LUgmhi2dw"
      },
      "source": [
        "Kita juga bisa menggunakan fungsi `list.pop()`.\n",
        "\n",
        "Perhatikan kode program berikut:"
      ]
    },
    {
      "cell_type": "code",
      "metadata": {
        "colab": {
          "base_uri": "https://localhost:8080/"
        },
        "id": "3w_F0Eufi8i_",
        "outputId": "eec9e861-251a-46bf-c1a4-d356d7f0dc19"
      },
      "source": [
        "# bermain pop\n",
        "while listKota:\n",
        "  print(listKota.pop(0))"
      ],
      "execution_count": null,
      "outputs": [
        {
          "output_type": "stream",
          "name": "stdout",
          "text": [
            "Jakarta\n",
            "Surabaya\n",
            "Depok\n",
            "Bekasi\n",
            "Solo\n",
            "Jogjakarta\n",
            "Semarang\n",
            "Makassar\n"
          ]
        }
      ]
    },
    {
      "cell_type": "markdown",
      "metadata": {
        "id": "DtiHZR9rjDwg"
      },
      "source": [
        "Kode program di atas juga akan menghasilkan output yang sama seperti yang kita lakukan dengan pendekatan indeks."
      ]
    },
    {
      "cell_type": "markdown",
      "metadata": {
        "id": "G-vrOT8DjFkI"
      },
      "source": [
        "## **Contoh perulangan while dengan inputan**\n",
        "\n",
        "Perhatikan contoh di bawah. Pada contoh ini kita akan meminta user untuk memasukkan angka ganjil lebih dari 50. Jika user justru memasukkan nilai genap atau nilai yang kurang dari 50, maka sistem akan meminta user untuk menginputkan kembali."
      ]
    },
    {
      "cell_type": "code",
      "metadata": {
        "colab": {
          "base_uri": "https://localhost:8080/"
        },
        "id": "Jem-txr4jKU3",
        "outputId": "e2cce776-bb40-4811-fa58-ea26de9d6866"
      },
      "source": [
        "a = int(input('Masukkan bilangan ganjil lebih dari 50: '))\n",
        "\n",
        "while a % 2 != 1 or a <= 50:\n",
        "  a = int(input('Salah, masukkan lagi: '))\n",
        "\n",
        "print('Benar')"
      ],
      "execution_count": null,
      "outputs": [
        {
          "output_type": "stream",
          "name": "stdout",
          "text": [
            "Masukkan bilangan ganjil lebih dari 50: 60\n",
            "Salah, masukkan lagi: 61\n",
            "Benar\n"
          ]
        }
      ]
    },
    {
      "cell_type": "markdown",
      "metadata": {
        "id": "ZxYLAXbIjXnp"
      },
      "source": [
        "## **Contoh perulangan while dengan continue**\n",
        "\n",
        "Sama dengan perulangan `for`, kita juga bisa menggunakan perintah `continue` pada perulangan `while`.\n",
        "\n",
        "Apa itu perintah `continue`?\n",
        "\n",
        "Perintah `continu`e berfungsi untuk men-skip iterasi sekarang ke iterasi selanjutnya."
      ]
    },
    {
      "cell_type": "code",
      "metadata": {
        "colab": {
          "base_uri": "https://localhost:8080/"
        },
        "id": "lDlLkHfS_lxP",
        "outputId": "30c9f4f5-f4d8-4ad6-b017-012404ec80d0"
      },
      "source": [
        "listKota = ['Jakarta', 'Surabaya', 'Depok', 'Bekasi', 'Solo','Jogjakarta', 'Semarang', 'Makassar']\n",
        "\n",
        "# skip jika i adalah bilangan genap\n",
        "# dan i lebih dari 0\n",
        "i = -1\n",
        "while i < len(listKota):\n",
        "  i += 1\n",
        "  if i % 2 == 0 and i > 0:\n",
        "    print('skip')\n",
        "    continue\n",
        "\n",
        "  # tidak dieksekusi ketika continue dipanggil\n",
        "  print(listKota[i])"
      ],
      "execution_count": null,
      "outputs": [
        {
          "output_type": "stream",
          "name": "stdout",
          "text": [
            "Jakarta\n",
            "Surabaya\n",
            "skip\n",
            "Bekasi\n",
            "skip\n",
            "Jogjakarta\n",
            "skip\n",
            "Makassar\n",
            "skip\n"
          ]
        }
      ]
    },
    {
      "cell_type": "markdown",
      "metadata": {
        "id": "x5NjN61eAEsu"
      },
      "source": [
        "Pada output di atas, ketika `i`-nya adalah bilangan genap yang lebih dari satu, perintah `print(listKota[i]` tidak dieksekusi dan justru di-skip."
      ]
    },
    {
      "cell_type": "markdown",
      "metadata": {
        "id": "O8jK8NKKAN8G"
      },
      "source": [
        "## **Contoh perulangan while dengan break**"
      ]
    },
    {
      "cell_type": "markdown",
      "metadata": {
        "id": "KYJp6k4vAUbO"
      },
      "source": [
        "Kita juga bisa menggunakan perintah `break` pada perulangan `while`.\n",
        "\n",
        "Perintah `break` itu sebenarnya mirip dengan perintah `continue`.\n",
        "\n",
        "Bedanya:\n",
        "\n",
        "Ketika perintah `break` dipanggil, maka perulangan akan dihentikan secara paksa.\n",
        "\n",
        "Perhatikan contoh berikut:"
      ]
    },
    {
      "cell_type": "code",
      "metadata": {
        "colab": {
          "base_uri": "https://localhost:8080/"
        },
        "id": "C6rFI0XSASdm",
        "outputId": "c77e6a98-75a6-46cd-b5fe-6bf2d689f621"
      },
      "source": [
        "listKota = ['Jakarta', 'Surabaya', 'Depok', 'Bekasi', 'Solo', 'Jogjakarta', 'Semarang', 'Makassar']\n",
        "\n",
        "kotaYangDicari = input('Masukkan nama kota yang dicari: ')\n",
        "\n",
        "i = 0\n",
        "while i < len(listKota):\n",
        "  if listKota[i].lower() == kotaYangDicari.lower():\n",
        "    print('Ketemu di index', i)\n",
        "    break\n",
        "\n",
        "  print('Bukan', listKota[i])\n",
        "  i += 1"
      ],
      "execution_count": null,
      "outputs": [
        {
          "output_type": "stream",
          "name": "stdout",
          "text": [
            "Masukkan nama kota yang dicari: depok\n",
            "Bukan Jakarta\n",
            "Bukan Surabaya\n",
            "Ketemu di index 2\n"
          ]
        }
      ]
    },
    {
      "cell_type": "markdown",
      "metadata": {
        "id": "ysS0f6o-AlFv"
      },
      "source": [
        "## **while … else**\n",
        "\n",
        "Sama seperti `for`, kita juga bisa menggunakan blok kode `else` pada perulangan `while`.\n",
        "\n",
        "Tugasnya pun sama: yaitu untuk mendefinisikan suatu tugas yang akan dieksekusi ketika perulangan telah **selesai secara natural** tanpa dihentikan secara paksa.\n",
        "\n",
        "Kita coba ubah program pencarian kota di atas dengan menambahkan blok kode `else` seperti berikut:"
      ]
    },
    {
      "cell_type": "code",
      "metadata": {
        "colab": {
          "base_uri": "https://localhost:8080/"
        },
        "id": "TZWCIiAoAwst",
        "outputId": "c8e47ede-a735-4fa2-e0e5-a7dae9104e4f"
      },
      "source": [
        "listKota = ['Jakarta', 'Surabaya', 'Depok', 'Bekasi', 'Solo', 'Jogjakarta', 'Semarang', 'Makassar']\n",
        "\n",
        "kotaYangDicari = input('Masukkan nama kota yang dicari: ')\n",
        "\n",
        "i = 0\n",
        "while i < len(listKota):\n",
        "  if listKota[i].lower() == kotaYangDicari.lower():\n",
        "    print('Ketemu di index', i)\n",
        "    break\n",
        "\n",
        "  print('Bukan ', listKota[i])\n",
        "  i += 1\n",
        "else:\n",
        "  print('Maaf, kota yang anda cari tidak ditemukan.')"
      ],
      "execution_count": null,
      "outputs": [
        {
          "output_type": "stream",
          "name": "stdout",
          "text": [
            "Masukkan nama kota yang dicari: depok\n",
            "Bukan  Jakarta\n",
            "Bukan  Surabaya\n",
            "Ketemu di index 2\n"
          ]
        }
      ]
    },
    {
      "cell_type": "markdown",
      "metadata": {
        "id": "luNyYCTlBU5e"
      },
      "source": [
        "Di sini perintah yang ada di blok kode `else` tidak dieksekusi oleh sistem. Kenapa? Karena perulangannya diberhentikan secara paksa dengan perintah `break`, bukan karena berhenti secara natural."
      ]
    },
    {
      "cell_type": "markdown",
      "metadata": {
        "id": "jr4smJ9qBdHm"
      },
      "source": [
        "# **Kapan harus menggunakan `for`, dan kapan harus menggunakan `while`?**\n",
        "\n",
        "Sebenarnya tidak ada acuan yang sangat baku, karena banyak sekali kasus-kasus yang bisa diselesaikan dengan menggunakan keduanya.\n",
        "\n",
        "Tapi, kalau memang ingin sebuah jawaban:\n",
        "\n",
        "1. Kalian bisa menggunakan `for` untuk kasus-kasus **yang berkaitan dengan data sequence pada python**, atau untuk kasus yang **sudah jelas jumlah perulangannya berapa**.\n",
        "2. Dan kalian **bisa menggunakan `while`** jika memang **perulangannya tidak jelas** akan dilakukan **berapa banyak**."
      ]
    },
    {
      "cell_type": "markdown",
      "metadata": {
        "id": "JPGXzpEkCApe"
      },
      "source": [
        "# **Perulangan Bersarang / Bertingkat**\n",
        "\n",
        "Perulangan bersarang atau perulangan bertingkat adalah sebuah perulangan yang berada atau terletak di dalam perulangan yang lain.\n",
        "\n",
        "**`Intinya di dalam setiap satu putaran, di dalamnya masih ada putaran yang lainnya, dan ada putaran yang lainnya lagi`.**\n",
        "\n",
        "Inilah yang dinamakan perulangan bersarang."
      ]
    },
    {
      "cell_type": "markdown",
      "metadata": {
        "id": "qZe6lTS0DkB2"
      },
      "source": [
        "## **Menggunakan For**"
      ]
    },
    {
      "cell_type": "code",
      "metadata": {
        "colab": {
          "base_uri": "https://localhost:8080/"
        },
        "id": "MluWPchDCxtu",
        "outputId": "eccc58f7-19da-4c21-cd52-a14b50b3be51"
      },
      "source": [
        "for i in range(3):\n",
        "  print('Perulangan luar [i] = ', i)\n",
        "\n",
        "  for j in range(5):\n",
        "    print('   Perulangan dalam [i, j] = ', str(i) + ', ' + str(j))"
      ],
      "execution_count": null,
      "outputs": [
        {
          "output_type": "stream",
          "name": "stdout",
          "text": [
            "Perulangan luar [i] =  0\n",
            "   Perulangan dalam [i, j] =  0, 0\n",
            "   Perulangan dalam [i, j] =  0, 1\n",
            "   Perulangan dalam [i, j] =  0, 2\n",
            "   Perulangan dalam [i, j] =  0, 3\n",
            "   Perulangan dalam [i, j] =  0, 4\n",
            "Perulangan luar [i] =  1\n",
            "   Perulangan dalam [i, j] =  1, 0\n",
            "   Perulangan dalam [i, j] =  1, 1\n",
            "   Perulangan dalam [i, j] =  1, 2\n",
            "   Perulangan dalam [i, j] =  1, 3\n",
            "   Perulangan dalam [i, j] =  1, 4\n",
            "Perulangan luar [i] =  2\n",
            "   Perulangan dalam [i, j] =  2, 0\n",
            "   Perulangan dalam [i, j] =  2, 1\n",
            "   Perulangan dalam [i, j] =  2, 2\n",
            "   Perulangan dalam [i, j] =  2, 3\n",
            "   Perulangan dalam [i, j] =  2, 4\n"
          ]
        }
      ]
    },
    {
      "cell_type": "markdown",
      "metadata": {
        "id": "OXnnrUdmDRWu"
      },
      "source": [
        "Di dalam kode program kita di atas, kita telah membuat 2 buah perulangan:\n",
        "\n",
        "1. Perulangan pertama sebanyak 3 kali.\n",
        "2. Dan perulangan kedua sebanyak 5 kali setiap satu kali perulangan pertama.\n",
        "\n",
        "Sehingga, total iterasi seluruhnya adalah 3x5 yaitu 15."
      ]
    },
    {
      "cell_type": "markdown",
      "metadata": {
        "id": "UY5VEAU0DbM-"
      },
      "source": [
        "**Contoh lain**"
      ]
    },
    {
      "cell_type": "code",
      "metadata": {
        "colab": {
          "base_uri": "https://localhost:8080/"
        },
        "id": "om-m5INlDYIF",
        "outputId": "7e63db23-31b8-4fc5-f3e2-379fc2de87d9"
      },
      "source": [
        "for baris in range(5):\n",
        "  for kolom in range(7):\n",
        "    print('o', end = ' ')\n",
        "  else:\n",
        "    print('')"
      ],
      "execution_count": null,
      "outputs": [
        {
          "output_type": "stream",
          "name": "stdout",
          "text": [
            "o o o o o o o \n",
            "o o o o o o o \n",
            "o o o o o o o \n",
            "o o o o o o o \n",
            "o o o o o o o \n"
          ]
        }
      ]
    },
    {
      "cell_type": "markdown",
      "metadata": {
        "id": "0hmRh13gDp9e"
      },
      "source": [
        "## **Menggunakan While**"
      ]
    },
    {
      "cell_type": "code",
      "metadata": {
        "colab": {
          "base_uri": "https://localhost:8080/"
        },
        "id": "7FPGAFRPDuWm",
        "outputId": "3430c2cd-f6a0-429b-c819-34b3d71be0e4"
      },
      "source": [
        "listKota = ['Jakarta', 'Surabaya', 'Makassar']\n",
        "\n",
        "for kota in listKota:\n",
        "  print(kota)\n",
        "\n",
        "  listTempat = [ 'Taman', 'Lapangan', 'Mall']\n",
        "\n",
        "  while listTempat:\n",
        "    print('-->', listTempat.pop(0))"
      ],
      "execution_count": null,
      "outputs": [
        {
          "output_type": "stream",
          "name": "stdout",
          "text": [
            "Jakarta\n",
            "--> Taman\n",
            "--> Lapangan\n",
            "--> Mall\n",
            "Surabaya\n",
            "--> Taman\n",
            "--> Lapangan\n",
            "--> Mall\n",
            "Makassar\n",
            "--> Taman\n",
            "--> Lapangan\n",
            "--> Mall\n"
          ]
        }
      ]
    },
    {
      "cell_type": "markdown",
      "metadata": {
        "id": "ZhfuxowrEPRv"
      },
      "source": [
        "Kita juga bisa menambahkan perulangan lebih dari 2 tingkat, 3 tingkat, atau lebih sesuai kebutuhan.\n",
        "\n",
        "Contoh tambahan perulangan bersarang menggunakan `while`:"
      ]
    },
    {
      "cell_type": "code",
      "metadata": {
        "colab": {
          "base_uri": "https://localhost:8080/"
        },
        "id": "Wf6gTJnJESR1",
        "outputId": "9802fa7e-7e0e-4732-e5d2-c8f3c0cd7114"
      },
      "source": [
        "max_baris = 7\n",
        "max_kolom = 7\n",
        "\n",
        "baris = 0\n",
        "while baris < max_baris:\n",
        "  kolom = 0\n",
        "  while kolom < max_kolom:\n",
        "    print('o' if kolom <= baris else '+', end = ' ')\n",
        "    kolom += 1\n",
        "  else:\n",
        "    print('')\n",
        "  baris += 1"
      ],
      "execution_count": null,
      "outputs": [
        {
          "output_type": "stream",
          "name": "stdout",
          "text": [
            "o + + + + + + \n",
            "o o + + + + + \n",
            "o o o + + + + \n",
            "o o o o + + + \n",
            "o o o o o + + \n",
            "o o o o o o + \n",
            "o o o o o o o \n"
          ]
        }
      ]
    },
    {
      "cell_type": "markdown",
      "metadata": {
        "id": "WPE_tWLlEZg2"
      },
      "source": [
        "**Contoh lain**\n",
        "\n",
        "cara mengubah huruf vokal pada suatu kata dengan memanfaatkan perulangan bersarang sebagai struktur kontrolnya"
      ]
    },
    {
      "cell_type": "code",
      "metadata": {
        "colab": {
          "base_uri": "https://localhost:8080/"
        },
        "id": "7REkYbuFEgTe",
        "outputId": "259e4159-749e-489d-d588-8cdc3a38c732"
      },
      "source": [
        "# import re\n",
        "\n",
        "listKota = [\n",
        "  'Solo', 'Surabaya', 'Bekasi', 'Jakarta'\n",
        "]\n",
        "\n",
        "listHurufVokal = [\n",
        "  'a', 'i', 'u', 'e', 'o'\n",
        "]\n",
        "\n",
        "for kota in listKota:\n",
        "  print('[' + kota + ']')\n",
        "\n",
        "  for vokal in listHurufVokal:\n",
        "    print('-->', re.sub('[aiueo]', vokal, kota))"
      ],
      "execution_count": null,
      "outputs": [
        {
          "output_type": "stream",
          "name": "stdout",
          "text": [
            "[Solo]\n",
            "--> Sala\n",
            "--> Sili\n",
            "--> Sulu\n",
            "--> Sele\n",
            "--> Solo\n",
            "[Surabaya]\n",
            "--> Sarabaya\n",
            "--> Siribiyi\n",
            "--> Surubuyu\n",
            "--> Serebeye\n",
            "--> Soroboyo\n",
            "[Bekasi]\n",
            "--> Bakasa\n",
            "--> Bikisi\n",
            "--> Bukusu\n",
            "--> Bekese\n",
            "--> Bokoso\n",
            "[Jakarta]\n",
            "--> Jakarta\n",
            "--> Jikirti\n",
            "--> Jukurtu\n",
            "--> Jekerte\n",
            "--> Jokorto\n"
          ]
        }
      ]
    },
    {
      "cell_type": "markdown",
      "metadata": {
        "id": "qO3_dmPbErsf"
      },
      "source": [
        "# **Latihan 1 - Membuat Deret Fibonacci**\n",
        "\n",
        "Fibonacci adalah sebuah deret bilangan yang mana setiap anggotanya adalah hasil penjumlahan dari 2 bilangan sebelumnya.\n",
        "\n",
        "Bilangan fibonacci selalu diawali oleh 2 angka, yaitu **0 dan 1.**\n",
        "\n",
        "Dan mulai bilangan **ke-3**, barulah setiap anggota deret fibonacci dikalkulasikan berdasarkan penjumlahan dua angka sebelumnya.\n",
        "\n",
        "sehingga nilai dari bilangan:\n",
        "\n",
        "- Ke-3 adalah hasil dari 0 + 1 = 1\n",
        "- Ke-4 adalah hasil dari 1 + 1 = 2\n",
        "- Ke-5 adalah hasil dari 2 + 1 = 3\n",
        "- Ke-6 adalah hasil dari 3 + 2 = 5\n",
        "- Ke-7 adalah hasil dari 5 + 3 = 8\n",
        "- dan seterusnya"
      ]
    },
    {
      "cell_type": "markdown",
      "metadata": {
        "id": "J0JONkNOGvdl"
      },
      "source": [
        "Berikut ini penampakan deret fibonacci dari mulai jumlah deret 2 sampai dengan jumlah deret 10:\n",
        "\n",
        "**0 1**\n",
        "\n",
        "**0 1 1**\n",
        "\n",
        "**0 1 1 2**\n",
        "\n",
        "**0 1 1 2 3**\n",
        "\n",
        "**0 1 1 2 3 5**\n",
        "\n",
        "**0 1 1 2 3 5 8**\n",
        "\n",
        "**0 1 1 2 3 5 8 13**\n",
        "\n",
        "**0 1 1 2 3 5 8 13 21**\n",
        "\n",
        "**0 1 1 2 3 5 8 13 21 34**"
      ]
    },
    {
      "cell_type": "markdown",
      "metadata": {
        "id": "0sCbOFb5Jym2"
      },
      "source": [
        "# **Latihan 2 - Membuat Menu Dengan Input**"
      ]
    },
    {
      "cell_type": "markdown",
      "metadata": {
        "id": "mKie4uPLKHW_"
      },
      "source": [
        "# **Latihan 3 - Membuat Bentuk Berbeda dengan Karakter**\n",
        "\n",
        "Buatlah bentuk seperti dibawah ini, menggunakan **nested loop**\n",
        "\n",
        "=\n",
        "\n",
        "= =\n",
        "\n",
        "= = =\n",
        "\n",
        "= = = =\n",
        "\n",
        "= = = = ="
      ]
    },
    {
      "cell_type": "markdown",
      "metadata": {
        "id": "g2W3CTaca_33"
      },
      "source": [
        "# **Latihan 4 - Membuat Input File, yang hanya akan berhenti ketika kita menuliskan \"SELESAI\"**"
      ]
    }
  ]
}