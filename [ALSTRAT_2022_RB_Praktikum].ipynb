{
  "nbformat": 4,
  "nbformat_minor": 0,
  "metadata": {
    "colab": {
      "provenance": [],
      "authorship_tag": "ABX9TyPFvdfS0XZBNoW0nEFbbSrG",
      "include_colab_link": true
    },
    "kernelspec": {
      "name": "python3",
      "display_name": "Python 3"
    },
    "language_info": {
      "name": "python"
    }
  },
  "cells": [
    {
      "cell_type": "markdown",
      "metadata": {
        "id": "view-in-github",
        "colab_type": "text"
      },
      "source": [
        "<a href=\"https://colab.research.google.com/github/ribka-5/Pemrograman-Berbasis-Fungsi/blob/main/%5BALSTRAT_2022_RB_Praktikum%5D.ipynb\" target=\"_parent\"><img src=\"https://colab.research.google.com/assets/colab-badge.svg\" alt=\"Open In Colab\"/></a>"
      ]
    },
    {
      "cell_type": "markdown",
      "source": [
        "Nomor 1 (Brute Force)\n",
        "Urutkan data array secara menaik nilai terkecil hingga nilai terbesar. Data digenerate secara random menggunakan code -> datas = random.sample(range(0, n), n) dimana n = 1000. Buatlah program yang mengimplementasikan pengurutan tersebut menggunakan teknik sorting berikut dan manakah teknik yang paling menerapkan strategi brute force :\n",
        "- Bubble sort\n",
        "- Selection sort\n",
        "- Insertion sort\n",
        "- Quick sort\n"
      ],
      "metadata": {
        "id": "BOFaoh2VpA5Q"
      }
    },
    {
      "cell_type": "code",
      "source": [
        "import random\n",
        "# Bubbles Sort\n",
        "def bubble_sort(arr):\n",
        "    n = len(arr)\n",
        "    for i in range(n-1):\n",
        "    # range(n) akan menjadi perulangan\n",
        "    # mengulangi lebih satu kali\n",
        "        for j in range(0, n-i-1):\n",
        "            # memindahkan elemen ke yang lebih besar dari elemen berikutnya\n",
        "            if arr[j] > arr[j + 1] :\n",
        "                arr[j], arr[j + 1] = arr[j + 1], arr[j]\n",
        "\n",
        "arr = [3, 9, 4, 17, 5, 27, 11, 14, 15, 13, 16, 26]\n",
        "bubble_sort(arr)\n",
        "print (\"Sorted array is:\")\n",
        "for i in range(len(arr)):\n",
        "    print (\"% d\" % arr[i],end=\" \")"
      ],
      "metadata": {
        "colab": {
          "base_uri": "https://localhost:8080/"
        },
        "id": "AYOE6QqcpL_2",
        "outputId": "0393ec9c-afbc-4e99-b2f3-62b701af6917"
      },
      "execution_count": null,
      "outputs": [
        {
          "output_type": "stream",
          "name": "stdout",
          "text": [
            "Sorted array is:\n",
            " 3  4  5  9  11  13  14  15  16  17  26  27 "
          ]
        }
      ]
    },
    {
      "cell_type": "code",
      "source": [
        "# Selection Sort\n",
        "def selection_sort(L):\n",
        "    # i mengindikasikan banyak elemen yang akan diurutkan\n",
        "    for i in range(len(L)-1):\n",
        "        # mencari minimun elemen yang belum diurutkan\n",
        "        # asumsikan elemen pertama menjadi elemen terkecil\n",
        "        min_index = i\n",
        "        # j untuk mengulangi elemen yang tersisa\n",
        "        for j in range(i+1, len(L)-1):\n",
        "            # memperbarui min_index jika j lebih rendah\n",
        "            if L[j] < L[min_index]:\n",
        "                min_index = j\n",
        "        # Setelah elemen terendah ditemukan, ditukar dengan elemen yang belum diurutkan\n",
        "        L[i], L[min_index] = L[min_index], L[i]\n",
        "\n",
        "L = [15, 8, 10, 13, 12, 2, 22, 62]\n",
        "selection_sort(L)\n",
        "print(L)"
      ],
      "metadata": {
        "colab": {
          "base_uri": "https://localhost:8080/"
        },
        "id": "mhxRoVtFrb1T",
        "outputId": "26a919ec-1971-4da5-f0ab-8b2535c4cf37"
      },
      "execution_count": null,
      "outputs": [
        {
          "output_type": "stream",
          "name": "stdout",
          "text": [
            "[2, 8, 10, 12, 13, 15, 22, 62]\n"
          ]
        }
      ]
    },
    {
      "cell_type": "code",
      "source": [
        "# Insertion Sort\n",
        "def insertion_sort(lst):\n",
        "    for i in range(1, len(lst)):\n",
        "        key = lst[i]\n",
        "        # pindahkan elemen lebih besar dari key ke posisi kepala\n",
        "        j = i - 1\n",
        "        while j >= 0 and key < lst[j]:\n",
        "            lst[j + 1] = lst[j]\n",
        "            j -= 1\n",
        "        lst[j + 1] = key\n",
        "\n",
        "if __name__ == '__main__':\n",
        "    lst = [1, 5, 19, 6, 10, 3, 11, 21]\n",
        "    insertion_sort(lst)  # memanggil insertion_sort\n",
        "    print(\"Sorted list is: \", lst)"
      ],
      "metadata": {
        "colab": {
          "base_uri": "https://localhost:8080/"
        },
        "id": "vEF6_zmZrbqr",
        "outputId": "6e310a92-8bee-4df9-d7f2-2d5115ff0a80"
      },
      "execution_count": null,
      "outputs": [
        {
          "output_type": "stream",
          "name": "stdout",
          "text": [
            "Sorted list is:  [1, 3, 5, 6, 10, 11, 19, 21]\n"
          ]
        }
      ]
    },
    {
      "cell_type": "code",
      "source": [
        "# Quick Sort\n",
        "def partition(array, start, end):\n",
        "    pivot = array[start]\n",
        "    low = start + 1\n",
        "    high = end\n",
        "\n",
        "    while True:\n",
        "        # Jika value yang dicari lebih besar dari pivot, akan berpindah ke sisi kanan pivot kemudian pindah ke elemen selanjutnya di sisi kiri\n",
        "        # pastikan tidak melewati low pointer, demikan menunjukkan semua elemen telah dipindakan ke sisi yang benar dari pivot\n",
        "        while low <= high and array[high] >= pivot:\n",
        "            high = high - 1\n",
        "        # lawan dari proses di atas\n",
        "        while low <= high and array[low] <= pivot:\n",
        "            low = low + 1\n",
        "        if low <= high:\n",
        "            array[low], array[high] = array[high], array[low]\n",
        "        else:\n",
        "            # keluar dari loop\n",
        "            break\n",
        "    array[start], array[high] = array[high], array[start]\n",
        "    return high\n",
        "\n",
        "def quick_sort(array, start, end):\n",
        "    if start >= end:\n",
        "        return\n",
        "    p = partition(array, start, end)\n",
        "    quick_sort(array, start, p-1)\n",
        "    quick_sort(array, p+1, end)\n",
        "\n",
        "array = [3, 5, 15, 11, 10, 14, 17, 8, 12, 33, 27, 13, 37, 32]\n",
        "\n",
        "quick_sort(array, 0, len(array) - 1)\n",
        "print(array)"
      ],
      "metadata": {
        "colab": {
          "base_uri": "https://localhost:8080/"
        },
        "id": "OY-ba6FMrbcz",
        "outputId": "fdc4df8e-007f-4770-c0c2-ac8b28b0153e"
      },
      "execution_count": null,
      "outputs": [
        {
          "output_type": "stream",
          "name": "stdout",
          "text": [
            "[3, 5, 8, 10, 11, 12, 13, 14, 15, 17, 27, 32, 33, 37]\n"
          ]
        }
      ]
    },
    {
      "cell_type": "markdown",
      "source": [
        "Nomor 2 (Exhaustive Search)\n",
        "Buatlah program yang mengimplementasikan kasus TSP / Knapsack  menggunakan strategi Exhaustive Search. Contoh soal bisa dibuat dengan menggunakan data dummy dan datanya tidak diperbolehkan sama dengan teman lainnya. Untuk referensi dapat melihat slide Materi 3 pada Pertemuan ke 3."
      ],
      "metadata": {
        "id": "nv43C-1NpCif"
      }
    },
    {
      "cell_type": "code",
      "source": [
        "def knapSack(W, wt, val, n):\n",
        "    if n == 0 or W == 0:\n",
        "        return 0\n",
        "    # jika weight dari item ke-n lebih dari kapasitas w, maka item ini tidak dapat dimasukkan ke dalam solusi optimal\n",
        "    if (wt[n-1] > W):\n",
        "        return knapSack(W, wt, val, n-1)\n",
        "\n",
        "    # dua kasus return maksimum:\n",
        "    # (1) nth item dimasukkan\n",
        "    # (2) tidak dimasukkan\n",
        "    else:\n",
        "        return max(\n",
        "            val[n-1] + knapSack(\n",
        "                W-wt[n-1], wt, val, n-1),\n",
        "            knapSack(W, wt, val, n-1))\n",
        "\n",
        "val = [56, 88, 110]\n",
        "wt = [5, 7, 11]\n",
        "W = 50\n",
        "n = len(val)\n",
        "print(knapSack(W, wt, val, n))"
      ],
      "metadata": {
        "colab": {
          "base_uri": "https://localhost:8080/"
        },
        "id": "JIuNE5ZvpMfG",
        "outputId": "bc9b3b7b-b435-45a8-c6f0-1ddcf653fbd2"
      },
      "execution_count": null,
      "outputs": [
        {
          "output_type": "stream",
          "name": "stdout",
          "text": [
            "254\n"
          ]
        }
      ]
    },
    {
      "cell_type": "markdown",
      "source": [
        "Nomor 3 (Greedy)\n",
        "Buatlah program yang mengimplementasikan kasus tukar koin menggunaka strategi Greedy. Contoh soal bisa dibuat dengan menggunakan data dummy dan datanya tidak diperbolehkan sama dengan teman lainnya.  Untuk referensi dapat melihat slide Materi 4 pada Pertemuan ke 4."
      ],
      "metadata": {
        "id": "vOYf_ovCpEvA"
      }
    },
    {
      "cell_type": "code",
      "source": [
        "def coinChange(totalNumber, coins):\n",
        "    N = totalNumber\n",
        "    coins.sort()\n",
        "    index = len(coins)-1\n",
        "    while True:\n",
        "        coinValue = coins[index]\n",
        "        if N >= coinValue:\n",
        "            print(coinValue)\n",
        "            N = N - coinValue\n",
        "        if N < coinValue:\n",
        "            index -= 1\n",
        "\n",
        "        if N == 0:\n",
        "            break\n",
        "\n",
        "coins = [1, 25, 50, 100, 200, 500, 1000]\n",
        "coinChange(1978, coins)"
      ],
      "metadata": {
        "colab": {
          "base_uri": "https://localhost:8080/"
        },
        "id": "iYAQTxQXpNlG",
        "outputId": "91cdbe65-63c4-4821-a83b-294b8a24cce0"
      },
      "execution_count": null,
      "outputs": [
        {
          "output_type": "stream",
          "name": "stdout",
          "text": [
            "1000\n",
            "500\n",
            "200\n",
            "200\n",
            "50\n",
            "25\n",
            "1\n",
            "1\n",
            "1\n"
          ]
        }
      ]
    },
    {
      "cell_type": "markdown",
      "source": [
        "- Find the biggest coin that is less than the given total amount.\n",
        "- Add the coin to the result and subtract it from the total amount to get the pending amount.\n",
        "- If the pending amount is zero, print the result.\n",
        "- Else, repeat the mentioned steps till the pending amount reduces to zero."
      ],
      "metadata": {
        "id": "3oZOhoLRvLEd"
      }
    },
    {
      "cell_type": "markdown",
      "source": [
        "Nomor 4 (Divide and Conquer)\n",
        "Buatlah program untuk mencari nilai minimum dan maksimum dalam sebuah data menggunakan strategi Divide and Conquer. Data digenerate secara random menggunakan code -> datas = random.sample(range(0, n), n) dimana n = 1000."
      ],
      "metadata": {
        "id": "oIVqecNSpGuf"
      }
    },
    {
      "cell_type": "code",
      "source": [
        "def divideAndConquer_Max(arr, ind, len):\n",
        "\tmaximum = -1;\n",
        "\n",
        "\tif (ind >= len - 2):\n",
        "\t\tif (arr[ind] > arr[ind + 1]):\n",
        "\t\t\treturn arr[ind];\n",
        "\t\telse:\n",
        "\t\t\treturn arr[ind + 1];\n",
        "\tmaximum = divideAndConquer_Max(arr, ind + 1, len);\n",
        "\n",
        "\tif (arr[ind] > maximum):\n",
        "\t\treturn arr[ind];\n",
        "\telse:\n",
        "\t\treturn maximum;\n",
        "\n",
        "def divideAndConquer_Min(arr, ind, len):\n",
        "\tminimum = 0;\n",
        "\tif (ind >= len - 2):\n",
        "\t\tif (arr[ind] < arr[ind + 1]):\n",
        "\t\t\treturn arr[ind];\n",
        "\t\telse:\n",
        "\t\t\treturn arr[ind + 1];\n",
        "\tminimum = divideAndConquer_Min(arr, ind + 1, len);\n",
        "\n",
        "\tif (arr[ind] < minimum):\n",
        "\t\treturn arr[ind];\n",
        "\telse:\n",
        "\t\treturn minimum;\n",
        "\n",
        "if __name__ == '__main__':\n",
        "\n",
        "\tminimum, maximum = 0, -1;\n",
        "\n",
        "\t# array initialization\n",
        "\tarr = [6, 4, 8, 90, 12, 56, 7, 1, 63];\n",
        "\n",
        "\tmaximum = divideAndConquer_Max(arr, 0, 9);\n",
        "\tminimum = divideAndConquer_Min(arr, 0, 9);\n",
        "\n",
        "\tprint(\"The minimum number in the array is: \", minimum);\n",
        "\tprint(\"The maximum number in the array is: \", maximum);"
      ],
      "metadata": {
        "colab": {
          "base_uri": "https://localhost:8080/"
        },
        "id": "rs1VvQ1EpOEl",
        "outputId": "f4602d0f-f0d4-4e28-c2ec-b2a08b33d363"
      },
      "execution_count": null,
      "outputs": [
        {
          "output_type": "stream",
          "name": "stdout",
          "text": [
            "The minimum number in the array is:  1\n",
            "The maximum number in the array is:  90\n"
          ]
        }
      ]
    },
    {
      "cell_type": "markdown",
      "source": [
        "Nomor 5 (Decrease and Conquer)\n",
        "Buatlah program untuk mencari nilai median dalam sebuah data array (tanpa mengurutkan data array tersebut) menggunakan strategi Decrease and Conquer. Data digenerate secara random menggunakan code -> datas = random.sample(range(0, n), n) dimana n = 1000."
      ],
      "metadata": {
        "id": "o98djAp_pI5Y"
      }
    },
    {
      "cell_type": "code",
      "execution_count": null,
      "metadata": {
        "colab": {
          "base_uri": "https://localhost:8080/"
        },
        "id": "6wC4yXDonaRl",
        "outputId": "d1d6e16d-24f2-4d4a-e725-322fa9b0d1a7"
      },
      "outputs": [
        {
          "output_type": "stream",
          "name": "stdout",
          "text": [
            "Median = 600.5\n"
          ]
        }
      ],
      "source": [
        "def findMedian(datas, z):\n",
        "    sorted(datas)\n",
        "    if z % 2 != 0:\n",
        "        return float(datas[z/2])\n",
        "    return float((datas[int((z-1)/2)] +\n",
        "                  datas[int(z/2)])/2.0)\n",
        "n = 1000\n",
        "datas = random.sample(range(0, n), n)\n",
        "z = len(datas)\n",
        "print(\"Median =\", findMedian(datas, z))"
      ]
    }
  ]
}