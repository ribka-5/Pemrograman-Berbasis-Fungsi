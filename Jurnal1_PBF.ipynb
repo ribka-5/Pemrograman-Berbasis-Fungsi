{
  "nbformat": 4,
  "nbformat_minor": 0,
  "metadata": {
    "colab": {
      "provenance": [],
      "authorship_tag": "ABX9TyNjNaDKBvjpoRKWYVvRPjFC",
      "include_colab_link": true
    },
    "kernelspec": {
      "name": "python3",
      "display_name": "Python 3"
    },
    "language_info": {
      "name": "python"
    }
  },
  "cells": [
    {
      "cell_type": "markdown",
      "metadata": {
        "id": "view-in-github",
        "colab_type": "text"
      },
      "source": [
        "<a href=\"https://colab.research.google.com/github/ribka-5/Pemrograman-Berbasis-Fungsi/blob/main/Jurnal1_PBF.ipynb\" target=\"_parent\"><img src=\"https://colab.research.google.com/assets/colab-badge.svg\" alt=\"Open In Colab\"/></a>"
      ]
    },
    {
      "cell_type": "code",
      "execution_count": null,
      "metadata": {
        "colab": {
          "base_uri": "https://localhost:8080/"
        },
        "id": "eepOJTPOa0-B",
        "outputId": "5bf68671-ed09-404f-af0b-5d316cbb44a1"
      },
      "outputs": [
        {
          "name": "stdout",
          "output_type": "stream",
          "text": [
            "Tanggal pinjam:2022-05-11\n",
            "Lama pinjam:10\n"
          ]
        }
      ],
      "source": [
        "tanggal = input('Tanggal pinjam:')\n",
        "durasi = int(input('Lama pinjam:'))\n",
        "\n",
        "kategori = {\n",
        "    1: 100,\n",
        "    2: 200,\n",
        "    3: 250,\n",
        "    4: 300,\n",
        "    5: 500\n",
        "}"
      ]
    },
    {
      "cell_type": "code",
      "source": [
        "def dtl(s_tgl):\n",
        "  return[int(k) for k in s_tgl.split('-')]\n",
        "\n",
        "def is_cm(tgl_p,d,c):\n",
        "  return tgl_p[2]+d > c\n",
        "\n",
        "def thn_back(tgl_p,d,c):\n",
        "  return tgl_p[0]+1 if (is_cm(tgl_p,d,c) and tgl_p[1] == 12) else tgl_p[0]\n",
        "\n",
        "def bln_back(tgl_p,d,c):\n",
        "  return (tgl_p[1]%12)+1 if is_cm(tgl_p,d,c) else tgl_p[1]\n",
        "\n",
        "def tgl_back(tgl_p,d,c):\n",
        "  return tgl_p[2]+d - c if is_cm(tgl_p,d,c) else tgl_p[2]+d\n",
        "\n",
        "def awal_abad(thn):\n",
        "  return thn%100 == 0\n",
        "\n",
        "def kabisat(thn):\n",
        "  return (awal_abad(thn) and thn % 400 == 0) or (not awal_abad(thn) and thn%4 == 0)\n",
        "\n",
        "def dec_c(t):\n",
        "  return 30+(t[1]%2 if t[1] <= 8 else abs((t[1]%2)-1)) if t[1] != 2 else (29 if kabisat(t[0]) else 28)\n",
        "\n",
        "def waktu_kembali(tgl_p,d):\n",
        "  return [thn_back(tgl_p,d,dec_c(tgl_p)), bln_back(tgl_p,d,dec_c(tgl_p)), tgl_back(tgl_p,d,dec_c(tgl_p))]"
      ],
      "metadata": {
        "id": "_oWV-Y67Rg1F"
      },
      "execution_count": null,
      "outputs": []
    },
    {
      "cell_type": "code",
      "source": [
        "tgl_p = dtl(tanggal)\n",
        "waktu_kembali(tgl_p,durasi)"
      ],
      "metadata": {
        "colab": {
          "base_uri": "https://localhost:8080/"
        },
        "id": "2zpl7O7UW4yq",
        "outputId": "3cb25898-2806-4e60-8ba9-7dfa69c52e4b"
      },
      "execution_count": null,
      "outputs": [
        {
          "output_type": "execute_result",
          "data": {
            "text/plain": [
              "[2022, 5, 21]"
            ]
          },
          "metadata": {},
          "execution_count": 22
        }
      ]
    },
    {
      "cell_type": "code",
      "source": [
        "sewa_semua = [[1,5], [2,3], [3,0], [4,1], [5,2]]\n",
        "\n",
        "def biaya_per_kategori(kategori,sewa):\n",
        "  return sewa[1] * kategori.get(sewa[0])\n",
        "\n",
        "def semua_biaya(kategori,sewa_semua,durasi):\n",
        "  return sum([biaya_per_kategori(kategori,sewa) for sewa in sewa_semua])"
      ],
      "metadata": {
        "id": "UpiWcnzfVD9U"
      },
      "execution_count": null,
      "outputs": []
    },
    {
      "cell_type": "code",
      "source": [
        "semua_biaya(kategori,sewa_semua,durasi)"
      ],
      "metadata": {
        "colab": {
          "base_uri": "https://localhost:8080/"
        },
        "id": "5brcZNsKXtuf",
        "outputId": "f1866023-f100-4206-b55d-bc88aeca64fe"
      },
      "execution_count": null,
      "outputs": [
        {
          "output_type": "execute_result",
          "data": {
            "text/plain": [
              "2400"
            ]
          },
          "metadata": {},
          "execution_count": 26
        }
      ]
    }
  ]
}