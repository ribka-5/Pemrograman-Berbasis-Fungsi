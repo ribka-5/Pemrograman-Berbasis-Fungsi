{
  "nbformat": 4,
  "nbformat_minor": 0,
  "metadata": {
    "colab": {
      "provenance": [],
      "include_colab_link": true
    },
    "kernelspec": {
      "name": "python3",
      "display_name": "Python 3"
    },
    "language_info": {
      "name": "python"
    }
  },
  "cells": [
    {
      "cell_type": "markdown",
      "metadata": {
        "id": "view-in-github",
        "colab_type": "text"
      },
      "source": [
        "<a href=\"https://colab.research.google.com/github/ribka-5/Pemrograman-Berbasis-Fungsi/blob/main/functional.ipynb\" target=\"_parent\"><img src=\"https://colab.research.google.com/assets/colab-badge.svg\" alt=\"Open In Colab\"/></a>"
      ]
    },
    {
      "cell_type": "markdown",
      "source": [
        "# Larangan\n",
        "\n",
        "1. Tidak Boleh ada looping literal (for, while, do while)\n",
        "2. Tidak boleh mutasi state (engga boleh re-assign variable)\n",
        "\n",
        "```python\n",
        "# Dilarang\n",
        "a = 1\n",
        "a = a + 1\n",
        "\n",
        "# Diperbolehkan\n",
        "b = 1\n",
        "c = b + 1 # transformasi!\n",
        "```\n",
        "\n",
        "\n"
      ],
      "metadata": {
        "id": "Yb5KX17QmJx1"
      }
    },
    {
      "cell_type": "code",
      "source": [
        "# f(x) = 2x + 1\n",
        "def f(x):\n",
        "  return 2 * x + 1\n"
      ],
      "metadata": {
        "colab": {
          "base_uri": "https://localhost:8080/"
        },
        "id": "aAXcts5NmxXj",
        "outputId": "3b6a05e0-f352-490b-c0e9-3fd6a9354aca"
      },
      "execution_count": null,
      "outputs": [
        {
          "output_type": "execute_result",
          "data": {
            "text/plain": [
              "5"
            ]
          },
          "metadata": {},
          "execution_count": 43
        }
      ]
    },
    {
      "cell_type": "markdown",
      "source": [
        "# First Class Object\n",
        "\n",
        "1. Bisa disimpan dalam variabel!\n"
      ],
      "metadata": {
        "id": "a3FOdmPnnqcP"
      }
    },
    {
      "cell_type": "code",
      "source": [
        "# y = f(x)\n",
        "y = f\n",
        "\n",
        "y(2)"
      ],
      "metadata": {
        "colab": {
          "base_uri": "https://localhost:8080/"
        },
        "id": "syApVXHinpVv",
        "outputId": "5b52389c-7759-4e89-f953-bfe878c9a1dc"
      },
      "execution_count": null,
      "outputs": [
        {
          "output_type": "execute_result",
          "data": {
            "text/plain": [
              "5"
            ]
          },
          "metadata": {},
          "execution_count": 44
        }
      ]
    },
    {
      "cell_type": "markdown",
      "source": [
        "2. Bisa sebagai kembalian dari sebuah fungsi"
      ],
      "metadata": {
        "id": "lzOZ_jKKoHH9"
      }
    },
    {
      "cell_type": "code",
      "source": [
        "def square(n):\n",
        "  return n * n\n",
        "\n",
        "\n",
        "def p():\n",
        "  return square\n",
        "\n",
        "\n",
        "s = p()\n",
        "s(10)"
      ],
      "metadata": {
        "colab": {
          "base_uri": "https://localhost:8080/"
        },
        "id": "IMo4eu6LoRZQ",
        "outputId": "dd719848-5de9-4918-9a2a-e6b916a3278c"
      },
      "execution_count": null,
      "outputs": [
        {
          "output_type": "execute_result",
          "data": {
            "text/plain": [
              "100"
            ]
          },
          "metadata": {},
          "execution_count": 48
        }
      ]
    },
    {
      "cell_type": "markdown",
      "source": [
        "3. Fungsi sebagai parameter/argument untuk fungsi lain."
      ],
      "metadata": {
        "id": "j5fFRdchphzR"
      }
    },
    {
      "cell_type": "code",
      "source": [
        "def t(fn):\n",
        "  y = fn(3)\n",
        "  return y\n",
        "\n",
        "\n",
        "should_be_9 = t(square)\n",
        "\n",
        "print(should_be_9)"
      ],
      "metadata": {
        "colab": {
          "base_uri": "https://localhost:8080/"
        },
        "id": "7jUjmSZ7oRh5",
        "outputId": "5b0896ff-29f4-423a-c01d-96c95822adea"
      },
      "execution_count": null,
      "outputs": [
        {
          "output_type": "stream",
          "name": "stdout",
          "text": [
            "9\n"
          ]
        }
      ]
    },
    {
      "cell_type": "markdown",
      "source": [
        "4. Fungsi boleh didalam sebuah ekspresi.\n",
        "\n",
        "Syaratnya adalah fungsi yang diperboleh kedalam expresi hanya fungsi yang tidak bernama.\n",
        "\n",
        "Makanya kita ganti deklarasi fungsinya menggunakan **lambda**.  "
      ],
      "metadata": {
        "id": "gT9Y1NqfqqOu"
      }
    },
    {
      "cell_type": "code",
      "source": [
        "fx = (lambda x: x * 2) # function expression\n",
        "fx(2)\n",
        "fx(3)"
      ],
      "metadata": {
        "colab": {
          "base_uri": "https://localhost:8080/"
        },
        "id": "ELamm4CJrAaV",
        "outputId": "f812b893-b4b6-40fe-f607-00216fb61958"
      },
      "execution_count": null,
      "outputs": [
        {
          "output_type": "execute_result",
          "data": {
            "text/plain": [
              "6"
            ]
          },
          "metadata": {},
          "execution_count": 60
        }
      ]
    },
    {
      "cell_type": "code",
      "source": [
        "z = (lambda n:  n + square(8)) # function expression\n",
        "z(7) # invoked function expression"
      ],
      "metadata": {
        "colab": {
          "base_uri": "https://localhost:8080/"
        },
        "id": "FmnemnkNr_Cr",
        "outputId": "8cb44f83-27ca-4ca6-b463-e722efd615ba"
      },
      "execution_count": null,
      "outputs": [
        {
          "output_type": "execute_result",
          "data": {
            "text/plain": [
              "71"
            ]
          },
          "metadata": {},
          "execution_count": 55
        }
      ]
    },
    {
      "cell_type": "code",
      "source": [
        "z = (lambda n:  n + square(8))(7) # Immediately invoked function expression\n",
        "z"
      ],
      "metadata": {
        "colab": {
          "base_uri": "https://localhost:8080/"
        },
        "id": "_Zx4YXzisSC2",
        "outputId": "6d1be8ad-0c36-4ff0-fa29-3aedeb77bc5a"
      },
      "execution_count": null,
      "outputs": [
        {
          "output_type": "execute_result",
          "data": {
            "text/plain": [
              "71"
            ]
          },
          "metadata": {},
          "execution_count": 59
        }
      ]
    },
    {
      "cell_type": "code",
      "source": [
        "pow(10, 2)"
      ],
      "metadata": {
        "colab": {
          "base_uri": "https://localhost:8080/"
        },
        "id": "ztl__0LMuYT5",
        "outputId": "9d6d7dfd-4e70-4493-caeb-55f407363a86"
      },
      "execution_count": null,
      "outputs": [
        {
          "output_type": "execute_result",
          "data": {
            "text/plain": [
              "100"
            ]
          },
          "metadata": {},
          "execution_count": 64
        }
      ]
    },
    {
      "cell_type": "code",
      "source": [
        "pow10 = (lambda x: pow(10, x))\n",
        "pow10(5)"
      ],
      "metadata": {
        "colab": {
          "base_uri": "https://localhost:8080/"
        },
        "id": "2etGGoQPuHFR",
        "outputId": "4e4920d8-0b83-4d8b-9375-0d3295e778bc"
      },
      "execution_count": null,
      "outputs": [
        {
          "output_type": "execute_result",
          "data": {
            "text/plain": [
              "100000"
            ]
          },
          "metadata": {},
          "execution_count": 67
        }
      ]
    },
    {
      "cell_type": "markdown",
      "source": [
        "## Closure dan Variable Scope"
      ],
      "metadata": {
        "id": "vSaHIF81vTST"
      }
    },
    {
      "cell_type": "code",
      "source": [
        "global_variabel = 100 # Global variabel => tersedia dimanampun\n",
        "\n",
        "def addBy(n):\n",
        "  local_variabel = 10 * n # Local variable `hanya tersedia` didalam fungsi tersebut.\n",
        "  def closure(adder):\n",
        "    return local_variabel + adder # Enclosing variable, meminjam variabel lokal dari parentnya (pembungkusnya).\n",
        "\n",
        "  return closure\n",
        "\n",
        "# list = 2 => built in variabel.\n",
        "\n",
        "# def closure(adder):\n",
        "#   return 10 * 3 + adder\n",
        "\n",
        "closure1 = addBy(3)\n",
        "closure2 = addBy(4)\n",
        "print(closure1(5))\n",
        "print(closure2(5))"
      ],
      "metadata": {
        "colab": {
          "base_uri": "https://localhost:8080/"
        },
        "id": "2WqnKXEpvzs5",
        "outputId": "9cb91a74-f018-4874-a9c9-b5039e4c6871"
      },
      "execution_count": null,
      "outputs": [
        {
          "output_type": "stream",
          "name": "stdout",
          "text": [
            "35\n",
            "45\n"
          ]
        }
      ]
    },
    {
      "cell_type": "code",
      "source": [
        "def addBy_lambda(n):\n",
        "  local_variabel = 10 * n\n",
        "  return lambda adder: local_variabel + adder\n",
        "\n",
        "# def closure(adder):\n",
        "#   return 10 * 3 + adder\n",
        "\n",
        "closure1 = addBy_lambda(3)\n",
        "closure2 = addBy_lambda(4)\n",
        "print(closure1(5))\n",
        "print(closure2(5))"
      ],
      "metadata": {
        "colab": {
          "base_uri": "https://localhost:8080/"
        },
        "id": "PbeDOWWex2PV",
        "outputId": "e1acd627-f07f-4e5c-980e-647b8ec7bf6d"
      },
      "execution_count": null,
      "outputs": [
        {
          "output_type": "stream",
          "name": "stdout",
          "text": [
            "35\n",
            "45\n"
          ]
        }
      ]
    },
    {
      "cell_type": "markdown",
      "source": [
        "# High Order Function (HOC)\n",
        "\n",
        "1. Fungsi yang diberikan sebagai argument untuk fungsi lain, atau/dan\n",
        "2. Fungsi yang dijadikan sebagai kebalian dari fungsi lain."
      ],
      "metadata": {
        "id": "A9CJx_fU1hDh"
      }
    },
    {
      "cell_type": "code",
      "source": [
        "# [1, 2, 3, 4] -> fy(x) = 2*x -> [2, 4, 6, 8]\n",
        "numbers = [1, 2, 3, 4]\n",
        "\n",
        "def fy(x):\n",
        "  return 2 * x\n",
        "\n",
        "# list(map(lambda x:2 * x, numbers))\n",
        "\n",
        "\n",
        "#\n",
        "# mapped = list(map(fy, numbers))\n",
        "# [1, 2, 3, 4] -> 2*x -> [2, 4, 6, 8] -> 3*x [6, 12, 18, 25]\n",
        "mapped = list(map(lambda x:2 * x, numbers))\n",
        "second_mapped = list(map(lambda x: 3 * x, mapped))\n",
        "print(numbers)\n",
        "print(mapped)\n",
        "print(second_mapped)\n",
        "# for x in map(fy, numbers):\n",
        "#   print(x, end=\" \")\n",
        "\n"
      ],
      "metadata": {
        "colab": {
          "base_uri": "https://localhost:8080/"
        },
        "id": "m5lTFQI11fOG",
        "outputId": "d147fb01-924c-4f90-b3a1-ddc4e977bcf0"
      },
      "execution_count": null,
      "outputs": [
        {
          "output_type": "stream",
          "name": "stdout",
          "text": [
            "[1, 2, 3, 4]\n",
            "[2, 4, 6, 8]\n",
            "[6, 12, 18, 24]\n"
          ]
        }
      ]
    },
    {
      "cell_type": "code",
      "source": [
        "numbers = [1, 2, 3, 4]\n",
        "\n",
        "numbers = list(range(1, 10, 2))\n",
        "print(numbers)\n",
        "\n",
        "list(map(lambda x: x * 10, list(range(1, 10))))"
      ],
      "metadata": {
        "colab": {
          "base_uri": "https://localhost:8080/"
        },
        "id": "ANW6Z0V2l0hq",
        "outputId": "d1af3cc4-624d-405e-f4b2-1593c2eabed9"
      },
      "execution_count": null,
      "outputs": [
        {
          "output_type": "stream",
          "name": "stdout",
          "text": [
            "[1, 3, 5, 7, 9]\n"
          ]
        },
        {
          "output_type": "execute_result",
          "data": {
            "text/plain": [
              "[10, 20, 30, 40, 50, 60, 70, 80, 90]"
            ]
          },
          "metadata": {},
          "execution_count": 98
        }
      ]
    },
    {
      "cell_type": "code",
      "execution_count": null,
      "metadata": {
        "colab": {
          "base_uri": "https://localhost:8080/"
        },
        "id": "Ty4TsVI0RSvH",
        "outputId": "be321f72-d0e0-4cab-ab2b-6d75ba01b6d3"
      },
      "outputs": [
        {
          "output_type": "stream",
          "name": "stdout",
          "text": [
            "{'title': 'Data Structure and Algorithm', 'price': 150000}\n"
          ]
        }
      ],
      "source": [
        "class Book:\n",
        "  def __init__(self, title, price):\n",
        "    self.title = title\n",
        "    self.price = price\n",
        "\n",
        "\n",
        "book_dsa = Book(\"Data Structure and Algorithm\", 150_000)\n",
        "print(book_dsa.__dict__)"
      ]
    },
    {
      "cell_type": "markdown",
      "source": [],
      "metadata": {
        "id": "MN2jRAFGl1P_"
      }
    },
    {
      "cell_type": "code",
      "source": [
        "books = [\n",
        "  Book(\"Data Structure and Algorithm\", 150_000),\n",
        "  Book(\"Machine Learning\", 170_000),\n",
        "  Book(\"Functional Programming\", 125_000),\n",
        "  Book(\"Intro to Computer Science\", 155_000),\n",
        "]"
      ],
      "metadata": {
        "id": "w1VVhhTzSkPM"
      },
      "execution_count": null,
      "outputs": []
    },
    {
      "cell_type": "code",
      "source": [
        "def pluck(field):\n",
        "  return lambda keyval: keyval[field]"
      ],
      "metadata": {
        "id": "OikYjsL9TCJH"
      },
      "execution_count": null,
      "outputs": []
    },
    {
      "cell_type": "code",
      "source": [
        "def to_keyval(o):\n",
        "  return o.__dict__"
      ],
      "metadata": {
        "id": "TmbuQHA8TgNu"
      },
      "execution_count": null,
      "outputs": []
    },
    {
      "cell_type": "code",
      "source": [
        "def with_discont(rate):\n",
        "  return lambda price: price - price * rate"
      ],
      "metadata": {
        "id": "eSi4NTX0UllL"
      },
      "execution_count": null,
      "outputs": []
    },
    {
      "cell_type": "code",
      "source": [
        "def reduce(initial, reducer,  arr):\n",
        "  if len(arr) == 0:\n",
        "    return initial\n",
        "\n",
        "  [current, *rest] = arr\n",
        "  reduced = reducer(initial, current)\n",
        "\n",
        "  return reduce(reduced, reducer, rest)\n",
        "\n",
        "\n",
        "def sum_reducer(x,y):\n",
        "  return x+y"
      ],
      "metadata": {
        "id": "8ItEIDmPVZ62"
      },
      "execution_count": null,
      "outputs": []
    },
    {
      "cell_type": "code",
      "source": [
        "\n",
        "total_price_of_books_after_discont = reduce(\n",
        "    0, sum_reducer, list(\n",
        "        map(with_discont(0.2),\n",
        "            map(pluck(\"price\"),\n",
        "                map(to_keyval, books)))))\n",
        "\n",
        "\n",
        "print(total_price_of_books_after_discont)"
      ],
      "metadata": {
        "colab": {
          "base_uri": "https://localhost:8080/"
        },
        "id": "Awa1kstKT3Mx",
        "outputId": "c387823c-a61a-4419-ee2e-aae4a553154e"
      },
      "execution_count": null,
      "outputs": [
        {
          "output_type": "stream",
          "name": "stdout",
          "text": [
            "480000.0\n"
          ]
        }
      ]
    }
  ]
}